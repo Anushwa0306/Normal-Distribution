{
  "nbformat": 4,
  "nbformat_minor": 0,
  "metadata": {
    "colab": {
      "name": "Normal Distribution.ipynb",
      "provenance": [],
      "collapsed_sections": [],
      "toc_visible": true
    },
    "kernelspec": {
      "name": "python3",
      "display_name": "Python 3"
    },
    "language_info": {
      "name": "python"
    }
  },
  "cells": [
    {
      "cell_type": "code",
      "metadata": {
        "id": "4YCqLSrdXLQZ"
      },
      "source": [
        "import pandas as pd\n",
        "import numpy as np"
      ],
      "execution_count": 6,
      "outputs": []
    },
    {
      "cell_type": "code",
      "metadata": {
        "colab": {
          "base_uri": "https://localhost:8080/",
          "height": 203
        },
        "id": "Xrh0wE8PXdw3",
        "outputId": "d1b65378-903f-44bb-f75c-347488c28a4b"
      },
      "source": [
        "beml_df = pd.read_csv(\"/content/BEML.csv\")\n",
        "beml_df[0:5]"
      ],
      "execution_count": 7,
      "outputs": [
        {
          "output_type": "execute_result",
          "data": {
            "text/html": [
              "<div>\n",
              "<style scoped>\n",
              "    .dataframe tbody tr th:only-of-type {\n",
              "        vertical-align: middle;\n",
              "    }\n",
              "\n",
              "    .dataframe tbody tr th {\n",
              "        vertical-align: top;\n",
              "    }\n",
              "\n",
              "    .dataframe thead th {\n",
              "        text-align: right;\n",
              "    }\n",
              "</style>\n",
              "<table border=\"1\" class=\"dataframe\">\n",
              "  <thead>\n",
              "    <tr style=\"text-align: right;\">\n",
              "      <th></th>\n",
              "      <th>Date</th>\n",
              "      <th>Open</th>\n",
              "      <th>High</th>\n",
              "      <th>Low</th>\n",
              "      <th>Last</th>\n",
              "      <th>Close</th>\n",
              "      <th>Total Trade Quantity</th>\n",
              "      <th>Turnover (Lacs)</th>\n",
              "    </tr>\n",
              "  </thead>\n",
              "  <tbody>\n",
              "    <tr>\n",
              "      <th>0</th>\n",
              "      <td>2010-01-04</td>\n",
              "      <td>1121.0</td>\n",
              "      <td>1151.00</td>\n",
              "      <td>1121.00</td>\n",
              "      <td>1134.0</td>\n",
              "      <td>1135.60</td>\n",
              "      <td>101651.0</td>\n",
              "      <td>1157.18</td>\n",
              "    </tr>\n",
              "    <tr>\n",
              "      <th>1</th>\n",
              "      <td>2010-01-05</td>\n",
              "      <td>1146.8</td>\n",
              "      <td>1149.00</td>\n",
              "      <td>1128.75</td>\n",
              "      <td>1135.0</td>\n",
              "      <td>1134.60</td>\n",
              "      <td>59504.0</td>\n",
              "      <td>676.47</td>\n",
              "    </tr>\n",
              "    <tr>\n",
              "      <th>2</th>\n",
              "      <td>2010-01-06</td>\n",
              "      <td>1140.0</td>\n",
              "      <td>1164.25</td>\n",
              "      <td>1130.05</td>\n",
              "      <td>1137.0</td>\n",
              "      <td>1139.60</td>\n",
              "      <td>128908.0</td>\n",
              "      <td>1482.84</td>\n",
              "    </tr>\n",
              "    <tr>\n",
              "      <th>3</th>\n",
              "      <td>2010-01-07</td>\n",
              "      <td>1142.0</td>\n",
              "      <td>1159.40</td>\n",
              "      <td>1119.20</td>\n",
              "      <td>1141.0</td>\n",
              "      <td>1144.15</td>\n",
              "      <td>117871.0</td>\n",
              "      <td>1352.98</td>\n",
              "    </tr>\n",
              "    <tr>\n",
              "      <th>4</th>\n",
              "      <td>2010-01-08</td>\n",
              "      <td>1156.0</td>\n",
              "      <td>1172.00</td>\n",
              "      <td>1140.00</td>\n",
              "      <td>1141.2</td>\n",
              "      <td>1144.05</td>\n",
              "      <td>170063.0</td>\n",
              "      <td>1971.42</td>\n",
              "    </tr>\n",
              "  </tbody>\n",
              "</table>\n",
              "</div>"
            ],
            "text/plain": [
              "         Date    Open     High  ...    Close  Total Trade Quantity  Turnover (Lacs)\n",
              "0  2010-01-04  1121.0  1151.00  ...  1135.60              101651.0          1157.18\n",
              "1  2010-01-05  1146.8  1149.00  ...  1134.60               59504.0           676.47\n",
              "2  2010-01-06  1140.0  1164.25  ...  1139.60              128908.0          1482.84\n",
              "3  2010-01-07  1142.0  1159.40  ...  1144.15              117871.0          1352.98\n",
              "4  2010-01-08  1156.0  1172.00  ...  1144.05              170063.0          1971.42\n",
              "\n",
              "[5 rows x 8 columns]"
            ]
          },
          "metadata": {
            "tags": []
          },
          "execution_count": 7
        }
      ]
    },
    {
      "cell_type": "code",
      "metadata": {
        "colab": {
          "base_uri": "https://localhost:8080/",
          "height": 203
        },
        "id": "_CXILDukYAk6",
        "outputId": "6ed30627-3b00-4e4b-aad0-9c8a4730ce2a"
      },
      "source": [
        "glaxo_df = pd.read_csv(\"/content/GLAXO.csv\")\n",
        "glaxo_df[0:5]"
      ],
      "execution_count": 8,
      "outputs": [
        {
          "output_type": "execute_result",
          "data": {
            "text/html": [
              "<div>\n",
              "<style scoped>\n",
              "    .dataframe tbody tr th:only-of-type {\n",
              "        vertical-align: middle;\n",
              "    }\n",
              "\n",
              "    .dataframe tbody tr th {\n",
              "        vertical-align: top;\n",
              "    }\n",
              "\n",
              "    .dataframe thead th {\n",
              "        text-align: right;\n",
              "    }\n",
              "</style>\n",
              "<table border=\"1\" class=\"dataframe\">\n",
              "  <thead>\n",
              "    <tr style=\"text-align: right;\">\n",
              "      <th></th>\n",
              "      <th>Date</th>\n",
              "      <th>Open</th>\n",
              "      <th>High</th>\n",
              "      <th>Low</th>\n",
              "      <th>Last</th>\n",
              "      <th>Close</th>\n",
              "      <th>Total Trade Quantity</th>\n",
              "      <th>Turnover (Lacs)</th>\n",
              "    </tr>\n",
              "  </thead>\n",
              "  <tbody>\n",
              "    <tr>\n",
              "      <th>0</th>\n",
              "      <td>2010-01-04</td>\n",
              "      <td>1613.00</td>\n",
              "      <td>1629.10</td>\n",
              "      <td>1602.00</td>\n",
              "      <td>1629.0</td>\n",
              "      <td>1625.65</td>\n",
              "      <td>9365.0</td>\n",
              "      <td>151.74</td>\n",
              "    </tr>\n",
              "    <tr>\n",
              "      <th>1</th>\n",
              "      <td>2010-01-05</td>\n",
              "      <td>1639.95</td>\n",
              "      <td>1639.95</td>\n",
              "      <td>1611.05</td>\n",
              "      <td>1620.0</td>\n",
              "      <td>1616.80</td>\n",
              "      <td>38148.0</td>\n",
              "      <td>622.58</td>\n",
              "    </tr>\n",
              "    <tr>\n",
              "      <th>2</th>\n",
              "      <td>2010-01-06</td>\n",
              "      <td>1618.00</td>\n",
              "      <td>1644.00</td>\n",
              "      <td>1617.00</td>\n",
              "      <td>1639.0</td>\n",
              "      <td>1638.50</td>\n",
              "      <td>36519.0</td>\n",
              "      <td>595.09</td>\n",
              "    </tr>\n",
              "    <tr>\n",
              "      <th>3</th>\n",
              "      <td>2010-01-07</td>\n",
              "      <td>1645.00</td>\n",
              "      <td>1654.00</td>\n",
              "      <td>1636.00</td>\n",
              "      <td>1648.0</td>\n",
              "      <td>1648.70</td>\n",
              "      <td>12809.0</td>\n",
              "      <td>211.00</td>\n",
              "    </tr>\n",
              "    <tr>\n",
              "      <th>4</th>\n",
              "      <td>2010-01-08</td>\n",
              "      <td>1650.00</td>\n",
              "      <td>1650.00</td>\n",
              "      <td>1626.55</td>\n",
              "      <td>1640.0</td>\n",
              "      <td>1639.80</td>\n",
              "      <td>28035.0</td>\n",
              "      <td>459.11</td>\n",
              "    </tr>\n",
              "  </tbody>\n",
              "</table>\n",
              "</div>"
            ],
            "text/plain": [
              "         Date     Open     High  ...    Close  Total Trade Quantity  Turnover (Lacs)\n",
              "0  2010-01-04  1613.00  1629.10  ...  1625.65                9365.0           151.74\n",
              "1  2010-01-05  1639.95  1639.95  ...  1616.80               38148.0           622.58\n",
              "2  2010-01-06  1618.00  1644.00  ...  1638.50               36519.0           595.09\n",
              "3  2010-01-07  1645.00  1654.00  ...  1648.70               12809.0           211.00\n",
              "4  2010-01-08  1650.00  1650.00  ...  1639.80               28035.0           459.11\n",
              "\n",
              "[5 rows x 8 columns]"
            ]
          },
          "metadata": {
            "tags": []
          },
          "execution_count": 8
        }
      ]
    },
    {
      "cell_type": "code",
      "metadata": {
        "id": "7plUq3GdYy-7"
      },
      "source": [
        "beml_df = beml_df[['Date','Close']]\n",
        "glaxo_df = glaxo_df[['Date','Close']]"
      ],
      "execution_count": 10,
      "outputs": []
    },
    {
      "cell_type": "code",
      "metadata": {
        "colab": {
          "base_uri": "https://localhost:8080/",
          "height": 417
        },
        "id": "QsMqxjvpZSDo",
        "outputId": "29004788-0ee2-4a14-ea24-8c6e769e5f76"
      },
      "source": [
        "beml_df"
      ],
      "execution_count": 11,
      "outputs": [
        {
          "output_type": "execute_result",
          "data": {
            "text/html": [
              "<div>\n",
              "<style scoped>\n",
              "    .dataframe tbody tr th:only-of-type {\n",
              "        vertical-align: middle;\n",
              "    }\n",
              "\n",
              "    .dataframe tbody tr th {\n",
              "        vertical-align: top;\n",
              "    }\n",
              "\n",
              "    .dataframe thead th {\n",
              "        text-align: right;\n",
              "    }\n",
              "</style>\n",
              "<table border=\"1\" class=\"dataframe\">\n",
              "  <thead>\n",
              "    <tr style=\"text-align: right;\">\n",
              "      <th></th>\n",
              "      <th>Date</th>\n",
              "      <th>Close</th>\n",
              "    </tr>\n",
              "  </thead>\n",
              "  <tbody>\n",
              "    <tr>\n",
              "      <th>0</th>\n",
              "      <td>2010-01-04</td>\n",
              "      <td>1135.60</td>\n",
              "    </tr>\n",
              "    <tr>\n",
              "      <th>1</th>\n",
              "      <td>2010-01-05</td>\n",
              "      <td>1134.60</td>\n",
              "    </tr>\n",
              "    <tr>\n",
              "      <th>2</th>\n",
              "      <td>2010-01-06</td>\n",
              "      <td>1139.60</td>\n",
              "    </tr>\n",
              "    <tr>\n",
              "      <th>3</th>\n",
              "      <td>2010-01-07</td>\n",
              "      <td>1144.15</td>\n",
              "    </tr>\n",
              "    <tr>\n",
              "      <th>4</th>\n",
              "      <td>2010-01-08</td>\n",
              "      <td>1144.05</td>\n",
              "    </tr>\n",
              "    <tr>\n",
              "      <th>...</th>\n",
              "      <td>...</td>\n",
              "      <td>...</td>\n",
              "    </tr>\n",
              "    <tr>\n",
              "      <th>1734</th>\n",
              "      <td>2016-12-26</td>\n",
              "      <td>950.25</td>\n",
              "    </tr>\n",
              "    <tr>\n",
              "      <th>1735</th>\n",
              "      <td>2016-12-27</td>\n",
              "      <td>975.70</td>\n",
              "    </tr>\n",
              "    <tr>\n",
              "      <th>1736</th>\n",
              "      <td>2016-12-28</td>\n",
              "      <td>974.40</td>\n",
              "    </tr>\n",
              "    <tr>\n",
              "      <th>1737</th>\n",
              "      <td>2016-12-29</td>\n",
              "      <td>986.05</td>\n",
              "    </tr>\n",
              "    <tr>\n",
              "      <th>1738</th>\n",
              "      <td>2016-12-30</td>\n",
              "      <td>1000.60</td>\n",
              "    </tr>\n",
              "  </tbody>\n",
              "</table>\n",
              "<p>1739 rows × 2 columns</p>\n",
              "</div>"
            ],
            "text/plain": [
              "            Date    Close\n",
              "0     2010-01-04  1135.60\n",
              "1     2010-01-05  1134.60\n",
              "2     2010-01-06  1139.60\n",
              "3     2010-01-07  1144.15\n",
              "4     2010-01-08  1144.05\n",
              "...          ...      ...\n",
              "1734  2016-12-26   950.25\n",
              "1735  2016-12-27   975.70\n",
              "1736  2016-12-28   974.40\n",
              "1737  2016-12-29   986.05\n",
              "1738  2016-12-30  1000.60\n",
              "\n",
              "[1739 rows x 2 columns]"
            ]
          },
          "metadata": {
            "tags": []
          },
          "execution_count": 11
        }
      ]
    },
    {
      "cell_type": "code",
      "metadata": {
        "id": "dfHnIrVyZhln"
      },
      "source": [
        "## The Data frames have a date column, so we can create a DatetimeIndex index from this column date. It will ensure that the rows are sorted by time in ascending order ##\n",
        "glaxo_df = glaxo_df.set_index(pd.DatetimeIndex(glaxo_df['Date']))\n",
        "beml_df = beml_df.set_index(pd.DatetimeIndex(beml_df['Date']))"
      ],
      "execution_count": 13,
      "outputs": []
    },
    {
      "cell_type": "code",
      "metadata": {
        "colab": {
          "base_uri": "https://localhost:8080/",
          "height": 447
        },
        "id": "M5sw5lFva327",
        "outputId": "9400a305-85ba-40d1-9e6f-b4ef754a61be"
      },
      "source": [
        "glaxo_df"
      ],
      "execution_count": 14,
      "outputs": [
        {
          "output_type": "execute_result",
          "data": {
            "text/html": [
              "<div>\n",
              "<style scoped>\n",
              "    .dataframe tbody tr th:only-of-type {\n",
              "        vertical-align: middle;\n",
              "    }\n",
              "\n",
              "    .dataframe tbody tr th {\n",
              "        vertical-align: top;\n",
              "    }\n",
              "\n",
              "    .dataframe thead th {\n",
              "        text-align: right;\n",
              "    }\n",
              "</style>\n",
              "<table border=\"1\" class=\"dataframe\">\n",
              "  <thead>\n",
              "    <tr style=\"text-align: right;\">\n",
              "      <th></th>\n",
              "      <th>Date</th>\n",
              "      <th>Close</th>\n",
              "    </tr>\n",
              "    <tr>\n",
              "      <th>Date</th>\n",
              "      <th></th>\n",
              "      <th></th>\n",
              "    </tr>\n",
              "  </thead>\n",
              "  <tbody>\n",
              "    <tr>\n",
              "      <th>2010-01-04</th>\n",
              "      <td>2010-01-04</td>\n",
              "      <td>1625.65</td>\n",
              "    </tr>\n",
              "    <tr>\n",
              "      <th>2010-01-05</th>\n",
              "      <td>2010-01-05</td>\n",
              "      <td>1616.80</td>\n",
              "    </tr>\n",
              "    <tr>\n",
              "      <th>2010-01-06</th>\n",
              "      <td>2010-01-06</td>\n",
              "      <td>1638.50</td>\n",
              "    </tr>\n",
              "    <tr>\n",
              "      <th>2010-01-07</th>\n",
              "      <td>2010-01-07</td>\n",
              "      <td>1648.70</td>\n",
              "    </tr>\n",
              "    <tr>\n",
              "      <th>2010-01-08</th>\n",
              "      <td>2010-01-08</td>\n",
              "      <td>1639.80</td>\n",
              "    </tr>\n",
              "    <tr>\n",
              "      <th>...</th>\n",
              "      <td>...</td>\n",
              "      <td>...</td>\n",
              "    </tr>\n",
              "    <tr>\n",
              "      <th>2016-12-26</th>\n",
              "      <td>2016-12-26</td>\n",
              "      <td>2723.50</td>\n",
              "    </tr>\n",
              "    <tr>\n",
              "      <th>2016-12-27</th>\n",
              "      <td>2016-12-27</td>\n",
              "      <td>2701.75</td>\n",
              "    </tr>\n",
              "    <tr>\n",
              "      <th>2016-12-28</th>\n",
              "      <td>2016-12-28</td>\n",
              "      <td>2702.15</td>\n",
              "    </tr>\n",
              "    <tr>\n",
              "      <th>2016-12-29</th>\n",
              "      <td>2016-12-29</td>\n",
              "      <td>2727.90</td>\n",
              "    </tr>\n",
              "    <tr>\n",
              "      <th>2016-12-30</th>\n",
              "      <td>2016-12-30</td>\n",
              "      <td>2729.80</td>\n",
              "    </tr>\n",
              "  </tbody>\n",
              "</table>\n",
              "<p>1739 rows × 2 columns</p>\n",
              "</div>"
            ],
            "text/plain": [
              "                  Date    Close\n",
              "Date                           \n",
              "2010-01-04  2010-01-04  1625.65\n",
              "2010-01-05  2010-01-05  1616.80\n",
              "2010-01-06  2010-01-06  1638.50\n",
              "2010-01-07  2010-01-07  1648.70\n",
              "2010-01-08  2010-01-08  1639.80\n",
              "...                ...      ...\n",
              "2016-12-26  2016-12-26  2723.50\n",
              "2016-12-27  2016-12-27  2701.75\n",
              "2016-12-28  2016-12-28  2702.15\n",
              "2016-12-29  2016-12-29  2727.90\n",
              "2016-12-30  2016-12-30  2729.80\n",
              "\n",
              "[1739 rows x 2 columns]"
            ]
          },
          "metadata": {
            "tags": []
          },
          "execution_count": 14
        }
      ]
    },
    {
      "cell_type": "code",
      "metadata": {
        "colab": {
          "base_uri": "https://localhost:8080/",
          "height": 296
        },
        "id": "M4JGQWSPbE-H",
        "outputId": "1e284a86-278c-40b5-bd33-f12dbd4a95e5"
      },
      "source": [
        "import matplotlib.pyplot as plt\n",
        "import seaborn as sn\n",
        "%matplotlib inline\n",
        "plt.plot(glaxo_df.Close)\n",
        "plt.xlabel('Time')\n",
        "plt.ylabel('Close Price')"
      ],
      "execution_count": 15,
      "outputs": [
        {
          "output_type": "execute_result",
          "data": {
            "text/plain": [
              "Text(0, 0.5, 'Close Price')"
            ]
          },
          "metadata": {
            "tags": []
          },
          "execution_count": 15
        },
        {
          "output_type": "display_data",
          "data": {
            "image/png": "[encoded data removed]",
            "text/plain": [
              "<Figure size 432x288 with 1 Axes>"
            ]
          },
          "metadata": {
            "tags": [],
            "needs_background": "light"
          }
        }
      ]
    },
    {
      "cell_type": "code",
      "metadata": {
        "colab": {
          "base_uri": "https://localhost:8080/",
          "height": 296
        },
        "id": "J5gayepqb2z2",
        "outputId": "f4187ed0-d8f5-4923-cc4b-733936c4aea7"
      },
      "source": [
        "plt.plot(beml_df.Close)\n",
        "plt.xlabel('Time')\n",
        "plt.ylabel('Close')"
      ],
      "execution_count": 16,
      "outputs": [
        {
          "output_type": "execute_result",
          "data": {
            "text/plain": [
              "Text(0, 0.5, 'Close')"
            ]
          },
          "metadata": {
            "tags": []
          },
          "execution_count": 16
        },
        {
          "output_type": "display_data",
          "data": {
            "image/png": "[encoded data removed]",
            "text/plain": [
              "<Figure size 432x288 with 1 Axes>"
            ]
          },
          "metadata": {
            "tags": [],
            "needs_background": "light"
          }
        }
      ]
    },
    {
      "cell_type": "code",
      "metadata": {
        "id": "ZFsQcVKicF21"
      },
      "source": [
        "glaxo_df['gain'] = glaxo_df.Close.pct_change(periods=1)\n",
        "beml_df['gain'] = beml_df.Close.pct_change(periods=1)"
      ],
      "execution_count": 18,
      "outputs": []
    },
    {
      "cell_type": "code",
      "metadata": {
        "colab": {
          "base_uri": "https://localhost:8080/",
          "height": 447
        },
        "id": "sQ_qu9BLccdL",
        "outputId": "cabdc71b-53b0-4f69-c1d0-8429de9bf2d8"
      },
      "source": [
        "glaxo_df"
      ],
      "execution_count": 20,
      "outputs": [
        {
          "output_type": "execute_result",
          "data": {
            "text/html": [
              "<div>\n",
              "<style scoped>\n",
              "    .dataframe tbody tr th:only-of-type {\n",
              "        vertical-align: middle;\n",
              "    }\n",
              "\n",
              "    .dataframe tbody tr th {\n",
              "        vertical-align: top;\n",
              "    }\n",
              "\n",
              "    .dataframe thead th {\n",
              "        text-align: right;\n",
              "    }\n",
              "</style>\n",
              "<table border=\"1\" class=\"dataframe\">\n",
              "  <thead>\n",
              "    <tr style=\"text-align: right;\">\n",
              "      <th></th>\n",
              "      <th>Date</th>\n",
              "      <th>Close</th>\n",
              "      <th>gain</th>\n",
              "    </tr>\n",
              "    <tr>\n",
              "      <th>Date</th>\n",
              "      <th></th>\n",
              "      <th></th>\n",
              "      <th></th>\n",
              "    </tr>\n",
              "  </thead>\n",
              "  <tbody>\n",
              "    <tr>\n",
              "      <th>2010-01-04</th>\n",
              "      <td>2010-01-04</td>\n",
              "      <td>1625.65</td>\n",
              "      <td>NaN</td>\n",
              "    </tr>\n",
              "    <tr>\n",
              "      <th>2010-01-05</th>\n",
              "      <td>2010-01-05</td>\n",
              "      <td>1616.80</td>\n",
              "      <td>-0.005444</td>\n",
              "    </tr>\n",
              "    <tr>\n",
              "      <th>2010-01-06</th>\n",
              "      <td>2010-01-06</td>\n",
              "      <td>1638.50</td>\n",
              "      <td>0.013422</td>\n",
              "    </tr>\n",
              "    <tr>\n",
              "      <th>2010-01-07</th>\n",
              "      <td>2010-01-07</td>\n",
              "      <td>1648.70</td>\n",
              "      <td>0.006225</td>\n",
              "    </tr>\n",
              "    <tr>\n",
              "      <th>2010-01-08</th>\n",
              "      <td>2010-01-08</td>\n",
              "      <td>1639.80</td>\n",
              "      <td>-0.005398</td>\n",
              "    </tr>\n",
              "    <tr>\n",
              "      <th>...</th>\n",
              "      <td>...</td>\n",
              "      <td>...</td>\n",
              "      <td>...</td>\n",
              "    </tr>\n",
              "    <tr>\n",
              "      <th>2016-12-26</th>\n",
              "      <td>2016-12-26</td>\n",
              "      <td>2723.50</td>\n",
              "      <td>-0.001283</td>\n",
              "    </tr>\n",
              "    <tr>\n",
              "      <th>2016-12-27</th>\n",
              "      <td>2016-12-27</td>\n",
              "      <td>2701.75</td>\n",
              "      <td>-0.007986</td>\n",
              "    </tr>\n",
              "    <tr>\n",
              "      <th>2016-12-28</th>\n",
              "      <td>2016-12-28</td>\n",
              "      <td>2702.15</td>\n",
              "      <td>0.000148</td>\n",
              "    </tr>\n",
              "    <tr>\n",
              "      <th>2016-12-29</th>\n",
              "      <td>2016-12-29</td>\n",
              "      <td>2727.90</td>\n",
              "      <td>0.009529</td>\n",
              "    </tr>\n",
              "    <tr>\n",
              "      <th>2016-12-30</th>\n",
              "      <td>2016-12-30</td>\n",
              "      <td>2729.80</td>\n",
              "      <td>0.000697</td>\n",
              "    </tr>\n",
              "  </tbody>\n",
              "</table>\n",
              "<p>1739 rows × 3 columns</p>\n",
              "</div>"
            ],
            "text/plain": [
              "                  Date    Close      gain\n",
              "Date                                     \n",
              "2010-01-04  2010-01-04  1625.65       NaN\n",
              "2010-01-05  2010-01-05  1616.80 -0.005444\n",
              "2010-01-06  2010-01-06  1638.50  0.013422\n",
              "2010-01-07  2010-01-07  1648.70  0.006225\n",
              "2010-01-08  2010-01-08  1639.80 -0.005398\n",
              "...                ...      ...       ...\n",
              "2016-12-26  2016-12-26  2723.50 -0.001283\n",
              "2016-12-27  2016-12-27  2701.75 -0.007986\n",
              "2016-12-28  2016-12-28  2702.15  0.000148\n",
              "2016-12-29  2016-12-29  2727.90  0.009529\n",
              "2016-12-30  2016-12-30  2729.80  0.000697\n",
              "\n",
              "[1739 rows x 3 columns]"
            ]
          },
          "metadata": {
            "tags": []
          },
          "execution_count": 20
        }
      ]
    },
    {
      "cell_type": "code",
      "metadata": {
        "id": "rFYfQLg_dG1Y"
      },
      "source": [
        "#drop first row since it is NaN\n",
        "glaxo_df = glaxo_df.dropna()\n",
        "beml_df = beml_df.dropna()"
      ],
      "execution_count": 21,
      "outputs": []
    },
    {
      "cell_type": "code",
      "metadata": {
        "colab": {
          "base_uri": "https://localhost:8080/",
          "height": 447
        },
        "id": "zJRg_ExBd91k",
        "outputId": "d647201c-fe40-4db8-8450-21196430cdcd"
      },
      "source": [
        "glaxo_df"
      ],
      "execution_count": 22,
      "outputs": [
        {
          "output_type": "execute_result",
          "data": {
            "text/html": [
              "<div>\n",
              "<style scoped>\n",
              "    .dataframe tbody tr th:only-of-type {\n",
              "        vertical-align: middle;\n",
              "    }\n",
              "\n",
              "    .dataframe tbody tr th {\n",
              "        vertical-align: top;\n",
              "    }\n",
              "\n",
              "    .dataframe thead th {\n",
              "        text-align: right;\n",
              "    }\n",
              "</style>\n",
              "<table border=\"1\" class=\"dataframe\">\n",
              "  <thead>\n",
              "    <tr style=\"text-align: right;\">\n",
              "      <th></th>\n",
              "      <th>Date</th>\n",
              "      <th>Close</th>\n",
              "      <th>gain</th>\n",
              "    </tr>\n",
              "    <tr>\n",
              "      <th>Date</th>\n",
              "      <th></th>\n",
              "      <th></th>\n",
              "      <th></th>\n",
              "    </tr>\n",
              "  </thead>\n",
              "  <tbody>\n",
              "    <tr>\n",
              "      <th>2010-01-05</th>\n",
              "      <td>2010-01-05</td>\n",
              "      <td>1616.80</td>\n",
              "      <td>-0.005444</td>\n",
              "    </tr>\n",
              "    <tr>\n",
              "      <th>2010-01-06</th>\n",
              "      <td>2010-01-06</td>\n",
              "      <td>1638.50</td>\n",
              "      <td>0.013422</td>\n",
              "    </tr>\n",
              "    <tr>\n",
              "      <th>2010-01-07</th>\n",
              "      <td>2010-01-07</td>\n",
              "      <td>1648.70</td>\n",
              "      <td>0.006225</td>\n",
              "    </tr>\n",
              "    <tr>\n",
              "      <th>2010-01-08</th>\n",
              "      <td>2010-01-08</td>\n",
              "      <td>1639.80</td>\n",
              "      <td>-0.005398</td>\n",
              "    </tr>\n",
              "    <tr>\n",
              "      <th>2010-01-11</th>\n",
              "      <td>2010-01-11</td>\n",
              "      <td>1629.45</td>\n",
              "      <td>-0.006312</td>\n",
              "    </tr>\n",
              "    <tr>\n",
              "      <th>...</th>\n",
              "      <td>...</td>\n",
              "      <td>...</td>\n",
              "      <td>...</td>\n",
              "    </tr>\n",
              "    <tr>\n",
              "      <th>2016-12-26</th>\n",
              "      <td>2016-12-26</td>\n",
              "      <td>2723.50</td>\n",
              "      <td>-0.001283</td>\n",
              "    </tr>\n",
              "    <tr>\n",
              "      <th>2016-12-27</th>\n",
              "      <td>2016-12-27</td>\n",
              "      <td>2701.75</td>\n",
              "      <td>-0.007986</td>\n",
              "    </tr>\n",
              "    <tr>\n",
              "      <th>2016-12-28</th>\n",
              "      <td>2016-12-28</td>\n",
              "      <td>2702.15</td>\n",
              "      <td>0.000148</td>\n",
              "    </tr>\n",
              "    <tr>\n",
              "      <th>2016-12-29</th>\n",
              "      <td>2016-12-29</td>\n",
              "      <td>2727.90</td>\n",
              "      <td>0.009529</td>\n",
              "    </tr>\n",
              "    <tr>\n",
              "      <th>2016-12-30</th>\n",
              "      <td>2016-12-30</td>\n",
              "      <td>2729.80</td>\n",
              "      <td>0.000697</td>\n",
              "    </tr>\n",
              "  </tbody>\n",
              "</table>\n",
              "<p>1738 rows × 3 columns</p>\n",
              "</div>"
            ],
            "text/plain": [
              "                  Date    Close      gain\n",
              "Date                                     \n",
              "2010-01-05  2010-01-05  1616.80 -0.005444\n",
              "2010-01-06  2010-01-06  1638.50  0.013422\n",
              "2010-01-07  2010-01-07  1648.70  0.006225\n",
              "2010-01-08  2010-01-08  1639.80 -0.005398\n",
              "2010-01-11  2010-01-11  1629.45 -0.006312\n",
              "...                ...      ...       ...\n",
              "2016-12-26  2016-12-26  2723.50 -0.001283\n",
              "2016-12-27  2016-12-27  2701.75 -0.007986\n",
              "2016-12-28  2016-12-28  2702.15  0.000148\n",
              "2016-12-29  2016-12-29  2727.90  0.009529\n",
              "2016-12-30  2016-12-30  2729.80  0.000697\n",
              "\n",
              "[1738 rows x 3 columns]"
            ]
          },
          "metadata": {
            "tags": []
          },
          "execution_count": 22
        }
      ]
    },
    {
      "cell_type": "code",
      "metadata": {
        "colab": {
          "base_uri": "https://localhost:8080/",
          "height": 406
        },
        "id": "gNk0nggZeBcp",
        "outputId": "c9145705-c045-485f-8f56-0867275afb24"
      },
      "source": [
        "#plot the gains\n",
        "plt.figure(figsize = (8,6))\n",
        "plt.plot(glaxo_df.index,glaxo_df.gain)\n",
        "plt.xlabel('Time')\n",
        "plt.ylabel('gain')"
      ],
      "execution_count": 23,
      "outputs": [
        {
          "output_type": "execute_result",
          "data": {
            "text/plain": [
              "Text(0, 0.5, 'gain')"
            ]
          },
          "metadata": {
            "tags": []
          },
          "execution_count": 23
        },
        {
          "output_type": "display_data",
          "data": {
            "image/png": "[encoded data removed]",
            "text/plain": [
              "<Figure size 576x432 with 1 Axes>"
            ]
          },
          "metadata": {
            "tags": [],
            "needs_background": "light"
          }
        }
      ]
    },
    {
      "cell_type": "code",
      "metadata": {
        "colab": {
          "base_uri": "https://localhost:8080/",
          "height": 405
        },
        "id": "YKcwvGn3ea3b",
        "outputId": "ad3f6785-48c6-4c62-9fa9-17fcebe1ddc3"
      },
      "source": [
        "plt.figure(figsize = (8,6))\n",
        "plt.plot(beml_df.index,beml_df.gain)\n",
        "plt.xlabel('Time')\n",
        "plt.ylabel('gain')"
      ],
      "execution_count": 24,
      "outputs": [
        {
          "output_type": "execute_result",
          "data": {
            "text/plain": [
              "Text(0, 0.5, 'gain')"
            ]
          },
          "metadata": {
            "tags": []
          },
          "execution_count": 24
        },
        {
          "output_type": "display_data",
          "data": {
            "image/png": "[encoded data removed]",
            "text/plain": [
              "<Figure size 576x432 with 1 Axes>"
            ]
          },
          "metadata": {
            "tags": [],
            "needs_background": "light"
          }
        }
      ]
    },
    {
      "cell_type": "code",
      "metadata": {
        "colab": {
          "base_uri": "https://localhost:8080/",
          "height": 386
        },
        "id": "LBLITMQyeuj_",
        "outputId": "3540ad44-9bf9-430c-9da6-ba67c250a66b"
      },
      "source": [
        "sn.displot(glaxo_df.gain, label = 'Galxo')\n",
        "plt.xlabel('gain')\n",
        "plt.ylabel('Density')\n",
        "plt.legend()"
      ],
      "execution_count": 25,
      "outputs": [
        {
          "output_type": "execute_result",
          "data": {
            "text/plain": [
              "<matplotlib.legend.Legend at 0x7fe60a69bb90>"
            ]
          },
          "metadata": {
            "tags": []
          },
          "execution_count": 25
        },
        {
          "output_type": "display_data",
          "data": {
            "image/png": "[encoded data removed]",
            "text/plain": [
              "<Figure size 360x360 with 1 Axes>"
            ]
          },
          "metadata": {
            "tags": [],
            "needs_background": "light"
          }
        }
      ]
    },
    {
      "cell_type": "code",
      "metadata": {
        "colab": {
          "base_uri": "https://localhost:8080/",
          "height": 386
        },
        "id": "lU-vZ4vgfkUZ",
        "outputId": "37b242d1-11b5-477e-92a5-b2692568fe51"
      },
      "source": [
        "sn.displot(beml_df.gain, label = 'BEML')\n",
        "plt.xlabel('gain')\n",
        "plt.ylabel('Density')\n",
        "plt.legend()"
      ],
      "execution_count": 26,
      "outputs": [
        {
          "output_type": "execute_result",
          "data": {
            "text/plain": [
              "<matplotlib.legend.Legend at 0x7fe601c9e150>"
            ]
          },
          "metadata": {
            "tags": []
          },
          "execution_count": 26
        },
        {
          "output_type": "display_data",
          "data": {
            "image/png": "[encoded data removed]",
            "text/plain": [
              "<Figure size 360x360 with 1 Axes>"
            ]
          },
          "metadata": {
            "tags": [],
            "needs_background": "light"
          }
        }
      ]
    },
    {
      "cell_type": "code",
      "metadata": {
        "colab": {
          "base_uri": "https://localhost:8080/"
        },
        "id": "yR04PkhBfsQg",
        "outputId": "01962a63-9ff8-431c-fb18-b38632f14d7d"
      },
      "source": [
        "print('Mean',round(glaxo_df.gain.mean(),4))\n",
        "print('Standard Deviation',round(glaxo_df.gain.std(),4))"
      ],
      "execution_count": 27,
      "outputs": [
        {
          "output_type": "stream",
          "text": [
            "Mean 0.0004\n",
            "Standard Deviation 0.0134\n"
          ],
          "name": "stdout"
        }
      ]
    },
    {
      "cell_type": "code",
      "metadata": {
        "colab": {
          "base_uri": "https://localhost:8080/"
        },
        "id": "GtfLvRU3gWCf",
        "outputId": "925102f7-e05b-4146-e155-9c4ee9c49679"
      },
      "source": [
        "print('Mean',round(beml_df.gain.mean(),4))\n",
        "print('Standard Deviation',round(beml_df.gain.std(),4))"
      ],
      "execution_count": 28,
      "outputs": [
        {
          "output_type": "stream",
          "text": [
            "Mean 0.0003\n",
            "Standard Deviation 0.0264\n"
          ],
          "name": "stdout"
        }
      ]
    },
    {
      "cell_type": "code",
      "metadata": {
        "colab": {
          "base_uri": "https://localhost:8080/"
        },
        "id": "ohncs6A0gfjn",
        "outputId": "45f8f96c-62b5-407d-e138-c09bf654d84c"
      },
      "source": [
        "from scipy import stats\n",
        "#Probability of making 2% loss or higher in Glaxo\n",
        "stats.norm.cdf(-0.02,\n",
        "loc=glaxo_df.gain.mean(),\n",
        "scale=glaxo_df.gain.std())"
      ],
      "execution_count": 29,
      "outputs": [
        {
          "output_type": "execute_result",
          "data": {
            "text/plain": [
              "0.06352488667177397"
            ]
          },
          "metadata": {
            "tags": []
          },
          "execution_count": 29
        }
      ]
    },
    {
      "cell_type": "code",
      "metadata": {
        "colab": {
          "base_uri": "https://localhost:8080/"
        },
        "id": "0JlaxEeIg_hA",
        "outputId": "b0a2fd0b-719a-4c0a-bb4c-d63eef1c040a"
      },
      "source": [
        "#Probability of making 2% gain or higher in Glaxo\n",
        "1-stats.norm.cdf(0.02,\n",
        "loc=glaxo_df.gain.mean(),\n",
        "scale=glaxo_df.gain.std())"
      ],
      "execution_count": 30,
      "outputs": [
        {
          "output_type": "execute_result",
          "data": {
            "text/plain": [
              "0.07104511457618568"
            ]
          },
          "metadata": {
            "tags": []
          },
          "execution_count": 30
        }
      ]
    },
    {
      "cell_type": "markdown",
      "metadata": {
        "id": "J9WCnZMeh4mP"
      },
      "source": [
        "Compute 2% loss or gain for BEML\n"
      ]
    },
    {
      "cell_type": "code",
      "metadata": {
        "colab": {
          "base_uri": "https://localhost:8080/"
        },
        "id": "vput9LfuiK6O",
        "outputId": "57634391-20fb-44cb-b1d5-2ab12293df11"
      },
      "source": [
        "stats.norm.cdf(-0.02,\n",
        "loc=beml_df.gain.mean(),\n",
        "scale=beml_df.gain.std())"
      ],
      "execution_count": 31,
      "outputs": [
        {
          "output_type": "execute_result",
          "data": {
            "text/plain": [
              "0.22155987503755292"
            ]
          },
          "metadata": {
            "tags": []
          },
          "execution_count": 31
        }
      ]
    },
    {
      "cell_type": "code",
      "metadata": {
        "colab": {
          "base_uri": "https://localhost:8080/"
        },
        "id": "FSEHbVSrjiyn",
        "outputId": "cca38452-902d-48f9-edb9-8323cacfc7ec"
      },
      "source": [
        "#Probability of making 2% gain or higher in Glaxo\n",
        "1-stats.norm.cdf(0.02,\n",
        "loc=beml_df.gain.mean(),\n",
        "scale=beml_df.gain.std())"
      ],
      "execution_count": 32,
      "outputs": [
        {
          "output_type": "execute_result",
          "data": {
            "text/plain": [
              "0.22769829484075343"
            ]
          },
          "metadata": {
            "tags": []
          },
          "execution_count": 32
        }
      ]
    },
    {
      "cell_type": "code",
      "metadata": {
        "id": "OMdOIBmRjpKA"
      },
      "source": [
        ""
      ],
      "execution_count": null,
      "outputs": []
    }
  ]
}